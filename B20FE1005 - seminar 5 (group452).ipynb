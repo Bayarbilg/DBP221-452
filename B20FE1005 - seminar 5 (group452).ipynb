{
 "cells": [
  {
   "cell_type": "code",
   "execution_count": 7,
   "metadata": {},
   "outputs": [
    {
     "name": "stdout",
     "output_type": "stream",
     "text": [
      "Орц6\n",
      "*\n",
      "**\n",
      "***\n",
      "****\n",
      "*****\n",
      "******\n"
     ]
    }
   ],
   "source": [
    "#dasgal_1\n",
    "a = int(input(\"Орц\"))\n",
    "for i in range (1, a+1):\n",
    "    for j in range (1, i+1):\n",
    "        i = \"*\"\n",
    "        print(i, end = \"\")\n",
    "    print()"
   ]
  },
  {
   "cell_type": "code",
   "execution_count": 32,
   "metadata": {},
   "outputs": [
    {
     "name": "stdout",
     "output_type": "stream",
     "text": [
      "5\n",
      "*\n",
      "**\n",
      "***\n",
      "****\n",
      "*****\n"
     ]
    }
   ],
   "source": [
    "#dasgal_2\n",
    "n = int(input())\n",
    "for i in range(1, n+1):\n",
    "    m = ['*' * i]\n",
    "    for k in m:\n",
    "        print(k)"
   ]
  },
  {
   "cell_type": "code",
   "execution_count": 12,
   "metadata": {},
   "outputs": [
    {
     "name": "stdout",
     "output_type": "stream",
     "text": [
      "Oyun Bat\n",
      "22\n"
     ]
    }
   ],
   "source": [
    "#dasg\n",
    "students = {\n",
    "    \"Bat\": 18,\n",
    "    \"Oyun\": 22,\n",
    "    \"Dulam\": 21,\n",
    "    \"Suren\": 20}\n",
    "max_oloh = max (students, key=students.get)\n",
    "min_oloh = min (students, key=students.get)\n",
    "print(max_oloh, min_oloh)\n",
    "a = students[max(students, key=students.get)]\n",
    "print(a)"
   ]
  },
  {
   "cell_type": "code",
   "execution_count": 30,
   "metadata": {},
   "outputs": [
    {
     "name": "stdout",
     "output_type": "stream",
     "text": [
      "214216\n"
     ]
    }
   ],
   "source": [
    "import numpy as np\n",
    "a = np.arange(1,1000)\n",
    "c=0\n",
    "for i in a:\n",
    "    if i%3==0 or i%7==0:\n",
    "        c = c + i\n",
    "print(c)\n",
    "        "
   ]
  },
  {
   "cell_type": "code",
   "execution_count": null,
   "metadata": {},
   "outputs": [],
   "source": []
  },
  {
   "cell_type": "code",
   "execution_count": null,
   "metadata": {},
   "outputs": [],
   "source": []
  }
 ],
 "metadata": {
  "kernelspec": {
   "display_name": "Python 3",
   "language": "python",
   "name": "python3"
  },
  "language_info": {
   "codemirror_mode": {
    "name": "ipython",
    "version": 3
   },
   "file_extension": ".py",
   "mimetype": "text/x-python",
   "name": "python",
   "nbconvert_exporter": "python",
   "pygments_lexer": "ipython3",
   "version": "3.8.5"
  }
 },
 "nbformat": 4,
 "nbformat_minor": 4
}

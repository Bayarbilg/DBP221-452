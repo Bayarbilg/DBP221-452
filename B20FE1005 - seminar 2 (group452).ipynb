{
 "cells": [
  {
   "cell_type": "code",
   "execution_count": 15,
   "metadata": {},
   "outputs": [
    {
     "name": "stdout",
     "output_type": "stream",
     "text": [
      "The number is palindrome!\n"
     ]
    }
   ],
   "source": [
    "def palindorme(x):                 #dasgal_1\n",
    "    k=x\n",
    "    a=0\n",
    "    while(x>0):\n",
    "        b=x%10\n",
    "        a=a*10+b\n",
    "        x=x//10\n",
    "    if(k==a):\n",
    "        print(\"palindrome\")\n",
    "    else:\n",
    "        print(\"Not a palindrome\")\n",
    "palindorme(121)"
   ]
  },
  {
   "cell_type": "code",
   "execution_count": 54,
   "metadata": {},
   "outputs": [
    {
     "name": "stdout",
     "output_type": "stream",
     "text": [
      "5 6\n"
     ]
    }
   ],
   "source": [
    "def check_lists(lists):             #dasgal_2\n",
    "    a=0\n",
    "    b=0\n",
    "    k=0\n",
    "    for i in lists:\n",
    "        for k in i:\n",
    "            if k.isupper():\n",
    "                a=a+1\n",
    "            elif k.islower():\n",
    "                b=b+1\n",
    "    print(a,b)\n",
    "    \n",
    "check_lists(['tomAAA','KKmmm'])"
   ]
  },
  {
   "cell_type": "code",
   "execution_count": 22,
   "metadata": {},
   "outputs": [
    {
     "data": {
      "text/plain": [
       "6"
      ]
     },
     "execution_count": 22,
     "metadata": {},
     "output_type": "execute_result"
    }
   ],
   "source": [
    "def k(lists):                         #dasgal_3\n",
    "    a=1\n",
    "    for i in lists:\n",
    "        a=a*i\n",
    "    return a\n",
    "k([1,2,3])"
   ]
  },
  {
   "cell_type": "code",
   "execution_count": 42,
   "metadata": {},
   "outputs": [
    {
     "name": "stdout",
     "output_type": "stream",
     "text": [
      "toonii bacterial:4\n"
     ]
    },
    {
     "data": {
      "text/plain": [
       "24"
      ]
     },
     "execution_count": 42,
     "metadata": {},
     "output_type": "execute_result"
    }
   ],
   "source": [
    "def numberB(x):                       #dasgal_4\n",
    "    a=1\n",
    "    i=1\n",
    "    for i in range(k):\n",
    "        i=i+1\n",
    "        a=a*i\n",
    "    return a\n",
    "k=int(input(\"toonii bacterial:\",))\n",
    "numberB(k)"
   ]
  },
  {
   "cell_type": "code",
   "execution_count": 23,
   "metadata": {},
   "outputs": [
    {
     "name": "stdout",
     "output_type": "stream",
     "text": [
      "['c', 'b', 'a']\n"
     ]
    }
   ],
   "source": [
    "def urvuu_bolgoh(x):                   #dasgal_5\n",
    "    x.reverse()\n",
    "    print(x)\n",
    "urvuu_bolgoh(['a','b','c'])"
   ]
  },
  {
   "cell_type": "code",
   "execution_count": 24,
   "metadata": {},
   "outputs": [
    {
     "name": "stdout",
     "output_type": "stream",
     "text": [
      "15\n"
     ]
    }
   ],
   "source": [
    "def niilber_oloh(x):                   #dasgal_6\n",
    "    a=sum(x)\n",
    "    print(a)\n",
    "niilber_oloh([1,2,3,4,5])"
   ]
  },
  {
   "cell_type": "code",
   "execution_count": 29,
   "metadata": {},
   "outputs": [
    {
     "name": "stdout",
     "output_type": "stream",
     "text": [
      "{1, 2, 3, 4}\n"
     ]
    }
   ],
   "source": [
    "def delete_same_n(a):                  #dasgal_7\n",
    "    set1=set(a)\n",
    "    print(set1)\n",
    "list1 = [1,2,3,4,4,4,3,3]\n",
    "delete_same_n(list1)"
   ]
  },
  {
   "cell_type": "code",
   "execution_count": 33,
   "metadata": {},
   "outputs": [
    {
     "name": "stdout",
     "output_type": "stream",
     "text": [
      "max number is 7\n"
     ]
    }
   ],
   "source": [
    "def numbers_max(a,b,c):                #dasgal_8\n",
    "    if a>b>c or a>c>b:\n",
    "        print(\"max number is\",a)\n",
    "    elif b>a>c or b>c>a:\n",
    "        print(\"max number is\",b)\n",
    "    else:\n",
    "        print('max number is',c)\n",
    "numbers_max(7,3,4)"
   ]
  }
 ],
 "metadata": {
  "kernelspec": {
   "display_name": "Python 3",
   "language": "python",
   "name": "python3"
  },
  "language_info": {
   "codemirror_mode": {
    "name": "ipython",
    "version": 3
   },
   "file_extension": ".py",
   "mimetype": "text/x-python",
   "name": "python",
   "nbconvert_exporter": "python",
   "pygments_lexer": "ipython3",
   "version": "3.8.5"
  }
 },
 "nbformat": 4,
 "nbformat_minor": 4
}

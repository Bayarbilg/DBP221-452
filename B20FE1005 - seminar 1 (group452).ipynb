{
 "cells": [
  {
   "cell_type": "code",
   "execution_count": 1,
   "metadata": {},
   "outputs": [
    {
     "name": "stdout",
     "output_type": "stream",
     "text": [
      "python\n",
      "php\n",
      "java\n"
     ]
    }
   ],
   "source": [
    "#dasgal_1\n",
    "list1 = ['python','php','java']     \n",
    "print(list1[0])\n",
    "print(list1[1])\n",
    "print(list1[2])"
   ]
  },
  {
   "cell_type": "code",
   "execution_count": 8,
   "metadata": {},
   "outputs": [
    {
     "name": "stdout",
     "output_type": "stream",
     "text": [
      "55\n"
     ]
    }
   ],
   "source": [
    "#dasgal_2\n",
    "list2 = [1,2,3,4,5,6,7,8,9,10]\n",
    "k=0\n",
    "for i in list2:\n",
    "    k=k+i\n",
    "print(k)"
   ]
  },
  {
   "cell_type": "code",
   "execution_count": 35,
   "metadata": {},
   "outputs": [],
   "source": [
    "#dasgal_3\n",
    "def list_function1(z):\n",
    "    p=1\n",
    "    for i in z:\n",
    "        p=p*i\n",
    "    return p"
   ]
  },
  {
   "cell_type": "code",
   "execution_count": 36,
   "metadata": {},
   "outputs": [
    {
     "data": {
      "text/plain": [
       "120"
      ]
     },
     "execution_count": 36,
     "metadata": {},
     "output_type": "execute_result"
    }
   ],
   "source": [
    "list3 = [1,2,3,4,5]\n",
    "list_function1(list3)"
   ]
  },
  {
   "cell_type": "code",
   "execution_count": 38,
   "metadata": {},
   "outputs": [],
   "source": [
    "#dasgal_4\n",
    "def list_function2(m):\n",
    "    a = m[2]\n",
    "    b = m[-1]\n",
    "    c = a * b\n",
    "    return c"
   ]
  },
  {
   "cell_type": "code",
   "execution_count": 40,
   "metadata": {},
   "outputs": [
    {
     "data": {
      "text/plain": [
       "12"
      ]
     },
     "execution_count": 40,
     "metadata": {},
     "output_type": "execute_result"
    }
   ],
   "source": [
    "list_function2([1,2,3,4])"
   ]
  },
  {
   "cell_type": "code",
   "execution_count": 41,
   "metadata": {},
   "outputs": [],
   "source": [
    "#dasgal_5\n",
    "def list_function3(n):\n",
    "    a = max(n)\n",
    "    b = min(n)\n",
    "    return a,b"
   ]
  },
  {
   "cell_type": "code",
   "execution_count": 42,
   "metadata": {},
   "outputs": [
    {
     "data": {
      "text/plain": [
       "(7, 1)"
      ]
     },
     "execution_count": 42,
     "metadata": {},
     "output_type": "execute_result"
    }
   ],
   "source": [
    "list_function3([1,2,3,4,5,6,7])"
   ]
  },
  {
   "cell_type": "code",
   "execution_count": 123,
   "metadata": {},
   "outputs": [],
   "source": [
    "#dasgal_6\n",
    "def list_function4(q):\n",
    "    k=0\n",
    "    for i in q:\n",
    "        if len(i)>=2 and i[0]==i[-1]:\n",
    "            k=k+1\n",
    "    return k\n",
    "    "
   ]
  },
  {
   "cell_type": "code",
   "execution_count": 125,
   "metadata": {},
   "outputs": [
    {
     "data": {
      "text/plain": [
       "2"
      ]
     },
     "execution_count": 125,
     "metadata": {},
     "output_type": "execute_result"
    }
   ],
   "source": [
    "list_function4(['abdba','abcd', '121'])"
   ]
  },
  {
   "cell_type": "code",
   "execution_count": 112,
   "metadata": {},
   "outputs": [
    {
     "name": "stdout",
     "output_type": "stream",
     "text": [
      "['abcd', 'abdba', 121]\n"
     ]
    }
   ],
   "source": [
    "#dasgal_7\n",
    "list7 = ['abdba','abcd',121,121,'abcd']\n",
    "a = set(list7)\n",
    "b = list(a)\n",
    "print(b)"
   ]
  },
  {
   "cell_type": "code",
   "execution_count": 57,
   "metadata": {},
   "outputs": [
    {
     "name": "stdout",
     "output_type": "stream",
     "text": [
      "This list not empty\n"
     ]
    }
   ],
   "source": [
    "#dasgal_8\n",
    "list8 = ['a','b','c']\n",
    "if len(list8)==0:\n",
    "    print(\"This list empty\")\n",
    "else:\n",
    "    print('This list not empty')"
   ]
  },
  {
   "cell_type": "code",
   "execution_count": 63,
   "metadata": {},
   "outputs": [
    {
     "name": "stdout",
     "output_type": "stream",
     "text": [
      "[1, 2, 3, 5, 7, 9, 10]\n"
     ]
    }
   ],
   "source": [
    "#dasgal_9\n",
    "list9 = [1,2,3,4,5,6,7,8,9,10]\n",
    "list9.pop(3)\n",
    "list9.pop(4)\n",
    "list9.pop(5)\n",
    "print(list9)"
   ]
  },
  {
   "cell_type": "code",
   "execution_count": 64,
   "metadata": {},
   "outputs": [
    {
     "name": "stdout",
     "output_type": "stream",
     "text": [
      "(1, 2, 3, 4, 5)\n"
     ]
    }
   ],
   "source": [
    "#dasgal_10\n",
    "tuple1 = (1,2,3,4,5)\n",
    "print(tuple1)"
   ]
  },
  {
   "cell_type": "code",
   "execution_count": 68,
   "metadata": {},
   "outputs": [
    {
     "name": "stdout",
     "output_type": "stream",
     "text": [
      "(1, 2, 3, 4, 5, 6)\n"
     ]
    }
   ],
   "source": [
    "#dasgal_11\n",
    "tuple2 = (1,2,3,4,5)\n",
    "x = list(tuple2)\n",
    "x.append(6)\n",
    "tuple2 = tuple(x)\n",
    "print(tuple2)"
   ]
  },
  {
   "cell_type": "code",
   "execution_count": 69,
   "metadata": {},
   "outputs": [
    {
     "name": "stdout",
     "output_type": "stream",
     "text": [
      "2\n",
      "4\n"
     ]
    }
   ],
   "source": [
    "#dasgal_12\n",
    "tuple3 = (1,2,3,4,5)\n",
    "print(tuple3[1])\n",
    "print(tuple3[-2])"
   ]
  },
  {
   "cell_type": "code",
   "execution_count": 116,
   "metadata": {},
   "outputs": [
    {
     "name": "stdout",
     "output_type": "stream",
     "text": [
      "False\n"
     ]
    }
   ],
   "source": [
    "#dasgal_13\n",
    "tuple4 = (1,2,3,4)\n",
    "shalgah = not all(tuple4)\n",
    "print(shalgah)"
   ]
  },
  {
   "cell_type": "code",
   "execution_count": 70,
   "metadata": {},
   "outputs": [
    {
     "name": "stdout",
     "output_type": "stream",
     "text": [
      "1\n",
      "2\n",
      "3\n",
      "4\n",
      "5\n"
     ]
    }
   ],
   "source": [
    "#dasgal_14\n",
    "tuple5 = (1,2,3,4,5)\n",
    "for i in tuple5:\n",
    "    print(i)"
   ]
  },
  {
   "cell_type": "code",
   "execution_count": 71,
   "metadata": {},
   "outputs": [
    {
     "name": "stdout",
     "output_type": "stream",
     "text": [
      "{'c', 'd', 'e', 'b', 'a'}\n"
     ]
    }
   ],
   "source": [
    "#dasgal_15\n",
    "set1 = {'a','b','c'}\n",
    "set2 = {'d','e'}\n",
    "a = set1.union(set2)\n",
    "print(a)"
   ]
  },
  {
   "cell_type": "code",
   "execution_count": 73,
   "metadata": {},
   "outputs": [
    {
     "name": "stdout",
     "output_type": "stream",
     "text": [
      "{'c', 'a'}\n"
     ]
    }
   ],
   "source": [
    "#dasgal_16\n",
    "set1 = {'a','b','c'}\n",
    "set2 = {'d','e','a','c'}\n",
    "b = set1.intersection(set2)\n",
    "print(b)"
   ]
  },
  {
   "cell_type": "code",
   "execution_count": 74,
   "metadata": {},
   "outputs": [
    {
     "name": "stdout",
     "output_type": "stream",
     "text": [
      "3\n"
     ]
    }
   ],
   "source": [
    "#dasgal_17\n",
    "set3 = {'a','b','c'}\n",
    "print(len(set3))"
   ]
  },
  {
   "cell_type": "code",
   "execution_count": 75,
   "metadata": {},
   "outputs": [
    {
     "name": "stdout",
     "output_type": "stream",
     "text": [
      "{'b', 'a'}\n"
     ]
    }
   ],
   "source": [
    "#dasgal_18\n",
    "set4 = {'a','b','c'}\n",
    "set4.discard('c')\n",
    "print(set4)"
   ]
  },
  {
   "cell_type": "code",
   "execution_count": 76,
   "metadata": {},
   "outputs": [
    {
     "name": "stdout",
     "output_type": "stream",
     "text": [
      "set()\n"
     ]
    }
   ],
   "source": [
    "#dasgal_19\n",
    "set5 = {'a','b','c'}\n",
    "set5.clear()\n",
    "print(set5)"
   ]
  },
  {
   "cell_type": "code",
   "execution_count": 82,
   "metadata": {},
   "outputs": [],
   "source": [
    "#dasgal_20\n",
    "set6 = {'a','b','c'}\n",
    "del set6\n"
   ]
  },
  {
   "cell_type": "code",
   "execution_count": 86,
   "metadata": {},
   "outputs": [
    {
     "name": "stdout",
     "output_type": "stream",
     "text": [
      "[(1, 20), (2, 15), (3, 30)]\n",
      "[(3, 30), (2, 15), (1, 20)]\n"
     ]
    }
   ],
   "source": [
    "#dasgal_21\n",
    "dict1={\n",
    "    1:20,\n",
    "    2:15,\n",
    "    3:30}\n",
    "a = sorted(dict1.items())\n",
    "print(a)\n",
    "#----------\n",
    "b = list(dict1.items())\n",
    "b.sort(reverse=True)\n",
    "print(b)"
   ]
  },
  {
   "cell_type": "code",
   "execution_count": 94,
   "metadata": {},
   "outputs": [
    {
     "name": "stdout",
     "output_type": "stream",
     "text": [
      "Yes, this key is in dict2\n"
     ]
    }
   ],
   "source": [
    "#dasgal_22\n",
    "dict2 = {\n",
    "    1:20,\n",
    "    2:15,\n",
    "    3:30}\n",
    "def check_key(x):\n",
    "    if x in dict2:\n",
    "        print('Yes, this key is in dict2')\n",
    "    else:\n",
    "        print('No, key is not in dict2')\n",
    "check_key(2)\n"
   ]
  },
  {
   "cell_type": "code",
   "execution_count": 99,
   "metadata": {},
   "outputs": [
    {
     "name": "stdout",
     "output_type": "stream",
     "text": [
      "Yes, this value is in dict3\n"
     ]
    }
   ],
   "source": [
    "#dasgal_23\n",
    "dict3 = {\n",
    "    1:20,\n",
    "    2:15,\n",
    "    3:30}\n",
    "def check_value(x):\n",
    "    if x in dict3.values():\n",
    "        print('Yes, this value is in dict3')\n",
    "    else:\n",
    "        print('No, this value is not in dict3')\n",
    "check_value(20)\n"
   ]
  },
  {
   "cell_type": "code",
   "execution_count": 100,
   "metadata": {},
   "outputs": [
    {
     "name": "stdout",
     "output_type": "stream",
     "text": [
      "1 20\n",
      "2 15\n",
      "3 30\n"
     ]
    }
   ],
   "source": [
    "#dasgal_24\n",
    "dict4 = {\n",
    "    1:20,\n",
    "    2:15,\n",
    "    3:30}\n",
    "for x,y in dict4.items():\n",
    "    print(x,y)"
   ]
  },
  {
   "cell_type": "code",
   "execution_count": 107,
   "metadata": {},
   "outputs": [
    {
     "name": "stdout",
     "output_type": "stream",
     "text": [
      "Counter({3: 30, 6: 30, 1: 20, 4: 20, 2: 15, 5: 15})\n"
     ]
    }
   ],
   "source": [
    "#dasgal_25\n",
    "from collections import Counter\n",
    "dict5 = {\n",
    "    1:20,\n",
    "    2:15,\n",
    "    3:30}\n",
    "dict6 = {\n",
    "    4:20,\n",
    "    5:15,\n",
    "    6:30}\n",
    "a = Counter(dict5)+Counter(dict6)\n",
    "print(a)"
   ]
  },
  {
   "cell_type": "code",
   "execution_count": 110,
   "metadata": {},
   "outputs": [
    {
     "name": "stdout",
     "output_type": "stream",
     "text": [
      "65\n"
     ]
    }
   ],
   "source": [
    "#dasgal_26\n",
    "dict7 = {\n",
    "    1:20,\n",
    "    2:15,\n",
    "    3:30}\n",
    "k = dict7.values()\n",
    "niilber = sum(k)\n",
    "print(niilber)"
   ]
  },
  {
   "cell_type": "code",
   "execution_count": null,
   "metadata": {},
   "outputs": [],
   "source": []
  }
 ],
 "metadata": {
  "kernelspec": {
   "display_name": "Python 3",
   "language": "python",
   "name": "python3"
  },
  "language_info": {
   "codemirror_mode": {
    "name": "ipython",
    "version": 3
   },
   "file_extension": ".py",
   "mimetype": "text/x-python",
   "name": "python",
   "nbconvert_exporter": "python",
   "pygments_lexer": "ipython3",
   "version": "3.8.5"
  }
 },
 "nbformat": 4,
 "nbformat_minor": 4
}
